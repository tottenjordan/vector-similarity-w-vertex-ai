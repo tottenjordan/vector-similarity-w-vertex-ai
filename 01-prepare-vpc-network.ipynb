{
 "cells": [
  {
   "cell_type": "markdown",
   "id": "4a219b51-1240-424f-bbc4-2e47890b5f9c",
   "metadata": {},
   "source": [
    "* **Note: if you are creating a Notebook instance and plan to execute vector matching** online queries with Vertex Matching Engine, be sure the Notebook instance's network matches the VPC created for Matching Engine. \n",
    "> * See [here](https://cloud.google.com/vertex-ai/docs/matching-engine/match-eng-setup#vpc-network-peering-setup) if you don't know what this means"
   ]
  },
  {
   "cell_type": "markdown",
   "id": "536c064d-e522-4565-967c-f92793514f95",
   "metadata": {},
   "source": [
    "## Prepare VPC Network"
   ]
  },
  {
   "cell_type": "code",
   "execution_count": null,
   "id": "a5af7e71-1486-44d0-a194-fa0041d98766",
   "metadata": {},
   "outputs": [],
   "source": [
    "# PROJECT_ID = \"<your_project_id>\"  # @param {type:\"string\"}\n",
    "\n",
    "# NETWORK_NAME = \"<YOUR_NETWORK_NAME>\"  # @param {type:\"string\"}\n",
    "\n",
    "# PEERING_RANGE_NAME = \"ucaip-haystack-range\"\n",
    "\n",
    "# # Create a VPC network\n",
    "# ! gcloud compute networks create {NETWORK_NAME} --bgp-routing-mode=regional --subnet-mode=auto --project={PROJECT_ID}\n",
    "\n",
    "# # Add necessary firewall rules\n",
    "# ! gcloud compute firewall-rules create {NETWORK_NAME}-allow-icmp --network {NETWORK_NAME} --priority 65534 --project {PROJECT_ID} --allow icmp\n",
    "\n",
    "# ! gcloud compute firewall-rules create {NETWORK_NAME}-allow-internal --network {NETWORK_NAME} --priority 65534 --project {PROJECT_ID} --allow all --source-ranges 10.128.0.0/9\n",
    "\n",
    "# ! gcloud compute firewall-rules create {NETWORK_NAME}-allow-rdp --network {NETWORK_NAME} --priority 65534 --project {PROJECT_ID} --allow tcp:3389\n",
    "\n",
    "# ! gcloud compute firewall-rules create {NETWORK_NAME}-allow-ssh --network {NETWORK_NAME} --priority 65534 --project {PROJECT_ID} --allow tcp:22\n",
    "\n",
    "# # Reserve IP range\n",
    "# ! gcloud compute addresses create {PEERING_RANGE_NAME} --global --prefix-length=16 --network={NETWORK_NAME} --purpose=VPC_PEERING --project={PROJECT_ID} --description=\"peering range for uCAIP Haystack.\"\n",
    "\n",
    "# # Set up peering with service networking\n",
    "# ! gcloud services vpc-peerings connect --service=servicenetworking.googleapis.com --network={NETWORK_NAME} --ranges={PEERING_RANGE_NAME} --project={PROJECT_ID}"
   ]
  },
  {
   "cell_type": "code",
   "execution_count": null,
   "id": "3938ec01-f689-4660-900f-72ac5c81ff29",
   "metadata": {},
   "outputs": [],
   "source": []
  },
  {
   "cell_type": "code",
   "execution_count": null,
   "id": "f9c29204-0e40-4d88-964e-2c8ed7cc610f",
   "metadata": {},
   "outputs": [],
   "source": []
  },
  {
   "cell_type": "code",
   "execution_count": null,
   "id": "4dfdae90-d076-44a5-99c3-9e09e181b844",
   "metadata": {},
   "outputs": [],
   "source": []
  },
  {
   "cell_type": "code",
   "execution_count": null,
   "id": "26acd765-f146-4863-99b4-f34f8daa2d47",
   "metadata": {},
   "outputs": [],
   "source": []
  },
  {
   "cell_type": "code",
   "execution_count": null,
   "id": "4ac9ac48-b1e6-4350-8977-eaace9cd67c8",
   "metadata": {},
   "outputs": [],
   "source": []
  }
 ],
 "metadata": {
  "environment": {
   "kernel": "python3",
   "name": "tf2-gpu.2-8.m95",
   "type": "gcloud",
   "uri": "gcr.io/deeplearning-platform-release/tf2-gpu.2-8:m95"
  },
  "kernelspec": {
   "display_name": "Python 3",
   "language": "python",
   "name": "python3"
  },
  "language_info": {
   "codemirror_mode": {
    "name": "ipython",
    "version": 3
   },
   "file_extension": ".py",
   "mimetype": "text/x-python",
   "name": "python",
   "nbconvert_exporter": "python",
   "pygments_lexer": "ipython3",
   "version": "3.7.12"
  }
 },
 "nbformat": 4,
 "nbformat_minor": 5
}
