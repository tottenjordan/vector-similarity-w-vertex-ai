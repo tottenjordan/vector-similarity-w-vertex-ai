{
 "cells": [
  {
   "cell_type": "markdown",
   "id": "0389c6d4-047f-4d7f-ba2b-8dcf95aef4be",
   "metadata": {},
   "source": [
    "# Filtering vectors with Vertex Matching Engine"
   ]
  },
  {
   "cell_type": "markdown",
   "id": "9f341ebd-b1f4-48c9-adc3-d345acccadfd",
   "metadata": {},
   "source": [
    "> In Vertex AI Matching Engine, you can restrict vector matching searches to a subset of the index by using Boolean rules\n",
    "\n",
    "> Boolean predicates tell Matching Engine which vectors in the index to ignore. \n",
    "\n",
    "See the [filter vector docs](https://cloud.google.com/vertex-ai/docs/matching-engine/filtering)"
   ]
  },
  {
   "cell_type": "markdown",
   "id": "abd882e9-d06a-4194-8989-c1ba6b4d7128",
   "metadata": {},
   "source": [
    "### this notebook...\n",
    "\n",
    "**major tasks**\n",
    "\n",
    "* Use pre-trained TFHub model to convert images to embedding vectors\n",
    "\n",
    "* Use Python SDK to query deployed ANN & BF indexes - from **(Notebook Link)** \n",
    "\n",
    "* TODO\n",
    "\n",
    "**vector attributes**\n",
    "\n",
    "* in this example, vectors are tagged with a `category` and a `tag_1`\n",
    "* `category` and `tag_1` are *namespaces*\n",
    "* `Beauty` , `Toys & Games`, and `Sports & Outdoors` are *tokens* from the `category` namespace (see all tokens below)\n",
    "* `even` and `odd` are *tokens* from the `tag_1` namespace\n",
    "\n",
    "```\n",
    "\n",
    "{\n",
    "    \"id\":\"B00C19IQ40\",\n",
    "    \"embedding\":[0.15452695, ..., 0.0047538234],\n",
    "    \"restricts\":[\n",
    "        {\"namespace\" : \"category\", \"allow\" : [\"All Beauty\"]},\n",
    "        {\"namespace\" : \"tag_1\", \"allow\" : [\"even\"]}\n",
    "    ]\n",
    "}\n",
    "\n",
    "```\n",
    "\n",
    "**queries**\n",
    "\n",
    "* Queries express an `AND` logical operator *across* namespaces\n",
    "* Queries express an `OR` logical operator *within* namespaces\n",
    "* A query that specifies `{color: red, blue}, {shape: square, circle}`, matches all database points that satisfy `(red || blue) && (square || circle)`\n",
    "* A query that specifies `{color: red}`, matches all `red` objects of any kind, with no restriction on `shape`\n"
   ]
  },
  {
   "cell_type": "code",
   "execution_count": 1,
   "id": "70f91fce-5593-4ce8-ab1f-d78f93fe762e",
   "metadata": {},
   "outputs": [
    {
     "name": "stdout",
     "output_type": "stream",
     "text": [
      "Updated property [core/project].\n"
     ]
    }
   ],
   "source": [
    "PROJECT_ID = 'hybrid-vertex'  # <--- TODO: CHANGE THIS\n",
    "LOCATION = 'us-central1' \n",
    "!gcloud config set project {PROJECT_ID}"
   ]
  },
  {
   "cell_type": "markdown",
   "id": "9118b9c9-3b9b-44e6-966d-ac6d8b4b3703",
   "metadata": {},
   "source": [
    "## pip & package"
   ]
  },
  {
   "cell_type": "code",
   "execution_count": 130,
   "id": "a3049dd3-03a5-458b-a261-2aef50549ec7",
   "metadata": {},
   "outputs": [],
   "source": [
    "import os\n",
    "import time\n",
    "\n",
    "import pandas as pd\n",
    "\n",
    "import tensorflow as tf\n",
    "import tensorflow_hub as hub\n",
    "\n",
    "from IPython.display import clear_output, Image\n",
    "from IPython.core.display import HTML\n"
   ]
  },
  {
   "cell_type": "code",
   "execution_count": 33,
   "id": "a6e0e361-c6c7-48af-a95b-b49e80e56f62",
   "metadata": {},
   "outputs": [],
   "source": [
    "from google.cloud import aiplatform as vertex_ai\n",
    "from google.cloud import storage\n",
    "\n",
    "from pprint import pprint\n",
    "\n",
    "storage_client = storage.Client(project=PROJECT_ID)\n",
    "\n",
    "vertex_ai.init(project=PROJECT_ID,location=LOCATION)"
   ]
  },
  {
   "cell_type": "markdown",
   "id": "d84d5e4c-e721-4066-999c-b644605cc615",
   "metadata": {},
   "source": [
    "# Prepare test queries\n",
    "\n",
    "* original image size - `100x100`\n",
    "* `42,000` train product images, with title, description, and each assigned a single product category\n",
    "* `6,368` test product images, with title, description, but no `category`\n",
    "\n",
    "```\n",
    "Product Category          value_counts\n",
    "Arts, Crafts & Sewing        2225\n",
    "Beauty                       2202\n",
    "Grocery & Gourmet Food       2201\n",
    "Sports & Outdoors            2201\n",
    "Automotive                   2200\n",
    "Industrial & Scientific      2200\n",
    "Musical Instruments          2200\n",
    "Appliances                   2200\n",
    "Office Products              2200\n",
    "All Beauty                   2200\n",
    "Toys & Games                 2200\n",
    "Electronics                  2200\n",
    "All Electronics              2200\n",
    "Cell Phones & Accessories    2200\n",
    "Patio, Lawn & Garden         2200\n",
    "Baby                         2200\n",
    "Baby Products                2200\n",
    "Health & Personal Care       2200\n",
    "Tools & Home Improvement     2200\n",
    "Clothing, Shoes & Jewelry    2200\n",
    "Pet Supplies                 2200\n",
    "```"
   ]
  },
  {
   "cell_type": "markdown",
   "id": "0474f249-53cf-433e-943c-c92b9fa042c5",
   "metadata": {},
   "source": [
    "## read and decode query images"
   ]
  },
  {
   "cell_type": "code",
   "execution_count": 68,
   "id": "be118538-e3d8-4039-aa5c-58c71ad65786",
   "metadata": {},
   "outputs": [],
   "source": [
    "IMG_HEIGHT = 224\n",
    "IMG_WIDTH = 224\n",
    "IMG_CHANNELS = 3\n",
    "\n",
    "def read_and_decode(filename, reshape_dims=[IMG_HEIGHT, IMG_WIDTH]):\n",
    "    # Read the file\n",
    "    img = tf.io.read_file(filename)\n",
    "  \n",
    "    # Convert the compressed string to a 3D uint8 tensor.\n",
    "    img = tf.image.decode_jpeg(img, channels=IMG_CHANNELS)\n",
    "\n",
    "    # Use `convert_image_dtype` to convert to floats in the [0,1] range.\n",
    "    # This makes the img 1 x 224 x 224 x 3 tensor with the data type of float32\n",
    "    img = tf.image.convert_image_dtype(img, tf.float32)[tf.newaxis, ...]\n",
    "\n",
    "    # Resize the image to the desired size.\n",
    "    return tf.image.resize(img, reshape_dims)\n",
    "\n",
    "\n",
    "def create_test_queries(embedder, img_uris):\n",
    "\n",
    "    dataset_embeddings = []\n",
    "    ids_list = []\n",
    "    \n",
    "    start = time.time()\n",
    "        \n",
    "    for uri in img_uris:\n",
    "        img_tensor = read_and_decode(uri, [IMG_WIDTH, IMG_HEIGHT])\n",
    "        embeddings = embedder(img_tensor)\n",
    "        dataset_embeddings.extend(embeddings)\n",
    "        \n",
    "        x = uri.split(\"/\")[-1]\n",
    "        x = x.split(\".\")[0]\n",
    "        ids_list.append(x)\n",
    "        \n",
    "    dataset_embeddings = tf.convert_to_tensor(dataset_embeddings)\n",
    "    \n",
    "    end = time.time()\n",
    "    elapsed_time = round((end - start), 2)\n",
    "    print(f'Elapsed time writting embeddings: {elapsed_time} seconds\\n')\n",
    "  \n",
    "    # return dataset_embeddings, ids_list, id_cat_list\n",
    "    return dataset_embeddings, ids_list\n"
   ]
  },
  {
   "cell_type": "markdown",
   "id": "f760c556-1ef2-4a23-84b3-9ab2e447d38b",
   "metadata": {},
   "source": [
    "connect to Cloud Storage..."
   ]
  },
  {
   "cell_type": "code",
   "execution_count": 11,
   "id": "db7dc91c-264d-4bca-bc0e-96e7c5e43f79",
   "metadata": {},
   "outputs": [
    {
     "name": "stdout",
     "output_type": "stream",
     "text": [
      "gs://retail-products-kaggle/retail-products-classification.zip\n",
      "gs://retail-products-kaggle/data-full/\n",
      "gs://retail-products-kaggle/dataset/\n",
      "gs://retail-products-kaggle/indexes/\n",
      "gs://retail-products-kaggle/pipeline_root/\n",
      "gs://retail-products-kaggle/pipelines_root/\n",
      "gs://retail-products-kaggle/saved-models/\n"
     ]
    }
   ],
   "source": [
    "BUCKET = 'retail-products-kaggle'\n",
    "IMAGE_DIR = f'gs://{BUCKET}'\n",
    "!gsutil ls $IMAGE_DIR"
   ]
  },
  {
   "cell_type": "code",
   "execution_count": 19,
   "id": "0f874519-d04f-4fbf-877b-a5509cb1ca6a",
   "metadata": {
    "tags": []
   },
   "outputs": [
    {
     "name": "stdout",
     "output_type": "stream",
     "text": [
      "Shape of train_csv: (46229, 4)\n",
      "Shape of test_csv: (10596, 3)\n",
      "Number of test image files: 6367\n"
     ]
    }
   ],
   "source": [
    "# train and test images \n",
    "DATA_FOLDER = 'data-full' \n",
    "TRAIN_CSV_URI = f'gs://{BUCKET}/{DATA_FOLDER}/train.csv'\n",
    "TEST_CSV_URI = f'gs://{BUCKET}/{DATA_FOLDER}/test.csv'\n",
    "\n",
    "train_csv = pd.read_csv(TRAIN_CSV_URI)\n",
    "test_csv = pd.read_csv(TEST_CSV_URI)\n",
    "\n",
    "TEST_IMG_DIR = f'gs://{BUCKET}/{DATA_FOLDER}/test/test'\n",
    "TEST_LIST_DIR = tf.io.gfile.listdir(TEST_IMG_DIR)\n",
    "\n",
    "print(f\"Shape of train_csv: {train_csv.shape}\")\n",
    "print(f\"Shape of test_csv: {test_csv.shape}\")\n",
    "print(f\"Number of test image files: {len(TEST_LIST_DIR)}\")"
   ]
  },
  {
   "cell_type": "markdown",
   "id": "369dd28b-9b0d-4f22-b2f6-13776bf74cdf",
   "metadata": {},
   "source": [
    "### Inspect `train` and `test` images"
   ]
  },
  {
   "cell_type": "code",
   "execution_count": 23,
   "id": "b8a02733-016f-42b9-900a-3f616b704fb4",
   "metadata": {
    "collapsed": true,
    "jupyter": {
     "outputs_hidden": true
    },
    "tags": []
   },
   "outputs": [
    {
     "data": {
      "text/plain": [
       "['gs://retail-products-kaggle/data-full/test/test/098415096X.jpg',\n",
       " 'gs://retail-products-kaggle/data-full/test/test/1134872615.jpg',\n",
       " 'gs://retail-products-kaggle/data-full/test/test/1403710066.jpg',\n",
       " 'gs://retail-products-kaggle/data-full/test/test/1403737010.jpg',\n",
       " 'gs://retail-products-kaggle/data-full/test/test/1403742618.jpg',\n",
       " 'gs://retail-products-kaggle/data-full/test/test/1403765049.jpg',\n",
       " 'gs://retail-products-kaggle/data-full/test/test/1403766355.jpg',\n",
       " 'gs://retail-products-kaggle/data-full/test/test/1403778809.jpg',\n",
       " 'gs://retail-products-kaggle/data-full/test/test/1403794677.jpg',\n",
       " 'gs://retail-products-kaggle/data-full/test/test/1427616566.jpg']"
      ]
     },
     "execution_count": 23,
     "metadata": {},
     "output_type": "execute_result"
    }
   ],
   "source": [
    "# importing Image class from PIL package\n",
    "from PIL import Image\n",
    "\n",
    "file_uri_list = []\n",
    "\n",
    "for file in TEST_LIST_DIR[:10]:\n",
    "    file_uri = f\"{TEST_IMG_DIR}/{file}\"\n",
    "    file_uri_list.append(file_uri)\n",
    "\n",
    "# file_uri_list"
   ]
  },
  {
   "cell_type": "code",
   "execution_count": 51,
   "id": "60d52fa8-dc20-4550-b379-1a50dd8a010f",
   "metadata": {},
   "outputs": [
    {
     "data": {
      "image/jpeg": "[encoded data removed]",
      "text/plain": [
       "<IPython.core.display.Image object>"
      ]
     },
     "execution_count": 51,
     "metadata": {
      "image/jpeg": {
       "height": 300,
       "width": 300
      }
     },
     "output_type": "execute_result"
    }
   ],
   "source": [
    "# FILE_NAME = f'{DATA_FOLDER}/test/test/098415096X.jpg' # rule book for game -  allow: 'Toys & Games'  | restrict: 'Arts, Crafts & Sewing'\n",
    "# FILE_NAME = f'{DATA_FOLDER}/test/test/1134872615.jpg' # educational computer game, scenic cover photo - allow: 'Toys & Games' | restrict: 'Patio, Lawn & Garden'\n",
    "# FILE_NAME = f'{DATA_FOLDER}/test/test/1403710066.jpg' # Tom Sawyer - allow: 'Sports & Outdoors' | restrict: 'Toys & Games'\n",
    "# FILE_NAME = f'{DATA_FOLDER}/test/test/1403737010.jpg' # \"Little Women\" book - allow: 'Toys & Games' | restrict: 'Baby', 'Baby Products'\n",
    "# FILE_NAME = f'{DATA_FOLDER}/test/test/1403742618.jpg' # kids book(?) - allow: 'Toys & Games' | restrict: 'Pet Supplies' 'Clothing, Shoes & Jewelry'\n",
    "# FILE_NAME = f'{DATA_FOLDER}/test/test/1403765049.jpg' # NO IMAGE AVAILABLE\n",
    "# FILE_NAME = f'{DATA_FOLDER}/test/test/1403766355.jpg' # My 2nd Grade (computer game?) - allow: 'Toys & Games', 'Electronics', 'All Electronics' | restrict: 'Baby Products'\n",
    "# FILE_NAME = f'{DATA_FOLDER}/test/test/1403778809.jpg' # charlie brown image - allow: 'Toys & Games' | restrict: 'Baby', 'Baby Products'\n",
    "# FILE_NAME = f'{DATA_FOLDER}/test/test/1403794677.jpg' # Astronaut - allow: 'Arts, Crafts & Sewing', 'Industrial & Scientific' | restrict: 'Pet Supplies', 'Baby Products'\n",
    "# FILE_NAME = f'{DATA_FOLDER}/test/test/1427616566.jpg' # Habitat - allow: 'Toys & Games', 'Electronics', 'All Electronics' | restrict: 'Pet Supplies', 'Patio, Lawn & Garden'\n",
    "\n",
    "bucket = storage_client.get_bucket(BUCKET)\n",
    "blob = bucket.get_blob(FILE_NAME)\n",
    "Image(blob.download_as_bytes(), width=300, height=300)"
   ]
  },
  {
   "cell_type": "code",
   "execution_count": 76,
   "id": "3c4741d7-0e42-4290-9954-f26aec5f4d93",
   "metadata": {},
   "outputs": [
    {
     "name": "stdout",
     "output_type": "stream",
     "text": [
      "Title: Little Women\n",
      "\n",
      "Description: \n",
      "Introduce your child to Louisa May Alcott's Little Women in this delightful 182-page condensation of the classic novel. This timeless story has been adapted by Bethany Snyder and retains the phrasing and flavor of the original. Illustrated with black and white drawings by artist Martin Hargreaves, the hardcover book will be a wonderful addition to your child's bookshelf. This beautiful book is part of The Great Classics for Children series published by Dalmatian Press and brought to you by Bendon Publishing. Bendon Publishing International provides entertaining, high quality books and activities for children.\n",
      "\n"
     ]
    },
    {
     "data": {
      "text/html": [
       "<div>\n",
       "<style scoped>\n",
       "    .dataframe tbody tr th:only-of-type {\n",
       "        vertical-align: middle;\n",
       "    }\n",
       "\n",
       "    .dataframe tbody tr th {\n",
       "        vertical-align: top;\n",
       "    }\n",
       "\n",
       "    .dataframe thead th {\n",
       "        text-align: right;\n",
       "    }\n",
       "</style>\n",
       "<table border=\"1\" class=\"dataframe\">\n",
       "  <thead>\n",
       "    <tr style=\"text-align: right;\">\n",
       "      <th></th>\n",
       "      <th>ImgId</th>\n",
       "      <th>title</th>\n",
       "      <th>description</th>\n",
       "    </tr>\n",
       "  </thead>\n",
       "  <tbody>\n",
       "    <tr>\n",
       "      <th>9324</th>\n",
       "      <td>1403737010</td>\n",
       "      <td>Little Women</td>\n",
       "      <td>Introduce your child to Louisa May Alcott's Li...</td>\n",
       "    </tr>\n",
       "  </tbody>\n",
       "</table>\n",
       "</div>"
      ],
      "text/plain": [
       "           ImgId         title  \\\n",
       "9324  1403737010  Little Women   \n",
       "\n",
       "                                            description  \n",
       "9324  Introduce your child to Louisa May Alcott's Li...  "
      ]
     },
     "execution_count": 76,
     "metadata": {},
     "output_type": "execute_result"
    }
   ],
   "source": [
    "# search title, description, category\n",
    "# category = train_csv.loc[train_csv['ImgId'] == IMAGE_ID, 'categories'].item()\n",
    "\n",
    "IMAGE_ID = '1403737010'\n",
    "\n",
    "sample = test_csv.loc[test_csv['ImgId'] == IMAGE_ID]\n",
    "\n",
    "print(f\"Title: {sample['title'].item()}\\n\")\n",
    "print(f\"Description: \\n{sample['description'].item()}\\n\")\n",
    "\n",
    "sample"
   ]
  },
  {
   "cell_type": "markdown",
   "id": "87919ae5-15cd-4d2f-a068-dfd389aa098c",
   "metadata": {},
   "source": [
    "### download pre-trained encoder from TF Hub"
   ]
  },
  {
   "cell_type": "code",
   "execution_count": 14,
   "id": "5b24c3be-1e61-4e6d-89db-a50ee9e1a792",
   "metadata": {},
   "outputs": [],
   "source": [
    "os.environ['TFHUB_MODEL_LOAD_FORMAT'] = 'COMPRESSED'\n",
    "TF_HUB_MODEL_DIR = \"https://tfhub.dev/google/tf2-preview/mobilenet_v2/feature_vector/4\"\n",
    "\n",
    "IMG_HEIGHT = 224\n",
    "IMG_WIDTH = 224\n",
    "IMG_CHANNELS = 3"
   ]
  },
  {
   "cell_type": "code",
   "execution_count": 8,
   "id": "74a2fcd3-b56e-4e16-b7a9-4cc5f17fbd1a",
   "metadata": {},
   "outputs": [
    {
     "name": "stderr",
     "output_type": "stream",
     "text": [
      "2022-11-04 06:30:22.367455: I tensorflow/core/common_runtime/process_util.cc:146] Creating new thread pool with default inter op setting: 2. Tune using inter_op_parallelism_threads for best performance.\n"
     ]
    },
    {
     "name": "stdout",
     "output_type": "stream",
     "text": [
      "Model: \"visual_embedding\"\n",
      "_________________________________________________________________\n",
      " Layer (type)                Output Shape              Param #   \n",
      "=================================================================\n",
      " mobilenet_embedding (KerasL  (None, 1280)             2257984   \n",
      " ayer)                                                           \n",
      "                                                                 \n",
      " flatten (Flatten)           (None, 1280)              0         \n",
      "                                                                 \n",
      "=================================================================\n",
      "Total params: 2,257,984\n",
      "Trainable params: 0\n",
      "Non-trainable params: 2,257,984\n",
      "_________________________________________________________________\n",
      "None\n"
     ]
    }
   ],
   "source": [
    "layers = [\n",
    "      hub.KerasLayer(\n",
    "          f\"{TF_HUB_MODEL_DIR}\",\n",
    "          input_shape=(IMG_HEIGHT, IMG_WIDTH, IMG_CHANNELS),\n",
    "          trainable=False,\n",
    "          name='mobilenet_embedding'),\n",
    "      tf.keras.layers.Flatten()\n",
    "]\n",
    "model = tf.keras.Sequential(\n",
    "    layers, name='visual_embedding'\n",
    ")\n",
    "print(model.summary())"
   ]
  },
  {
   "cell_type": "markdown",
   "id": "4906cc31-ebfc-4a89-b68f-752dd7081c13",
   "metadata": {},
   "source": [
    "### convert images to vector embeddings using `model.predict()`"
   ]
  },
  {
   "cell_type": "code",
   "execution_count": 84,
   "id": "c596d71c-a5c7-45e9-933f-8ac760e72d0d",
   "metadata": {},
   "outputs": [
    {
     "name": "stdout",
     "output_type": "stream",
     "text": [
      "Elapsed time writting embeddings: 1.91 seconds\n",
      "\n",
      "Shape of test_embeddings   : 10\n",
      "Shape of cleaned_test_embs : 10\n",
      "\n",
      "Shape of test_ids          : 10\n",
      "Shape of cleaned_test_ids  : 10\n",
      "cleaned_test_ids           : ['098415096X', '1134872615', '1403710066']\n",
      "\n"
     ]
    },
    {
     "data": {
      "text/plain": [
       "array([0.08451159, 0.        , 0.00108564, ..., 0.3638365 , 0.11259918,\n",
       "       0.        ], dtype=float32)"
      ]
     },
     "execution_count": 84,
     "metadata": {},
     "output_type": "execute_result"
    }
   ],
   "source": [
    "# IMG_PATH = f'gs://{BUCKET}/{DEST_FOLDER}/test/test'\n",
    "# IMG_PATH = f'gs://{BUCKET}/{DEST_FOLDER}/train/train'\n",
    "\n",
    "# create_test_queries(embedder, img_uris)\n",
    "\n",
    "test_embeddings, test_ids = create_test_queries(\n",
    "    lambda x: model.predict(x),\n",
    "    file_uri_list,\n",
    ")\n",
    "\n",
    "# clean output\n",
    "cleaned_test_embs = [x.numpy() for x in test_embeddings]\n",
    "cleaned_test_ids = [x for x in test_ids]\n",
    "\n",
    "print(f\"Shape of test_embeddings   : {len(test_embeddings)}\")\n",
    "print(f\"Shape of cleaned_test_embs : {len(cleaned_test_embs)}\\n\")\n",
    "\n",
    "print(f\"Shape of test_ids          : {len(test_ids)}\")\n",
    "print(f\"Shape of cleaned_test_ids  : {len(cleaned_test_ids)}\")\n",
    "print(f\"cleaned_test_ids           : {cleaned_test_ids[:3]}\\n\")\n",
    "cleaned_test_embs[0]"
   ]
  },
  {
   "cell_type": "markdown",
   "id": "f8368020-0ace-4442-b690-84a41df37cd9",
   "metadata": {},
   "source": [
    "## Deployed index endpoints"
   ]
  },
  {
   "cell_type": "markdown",
   "id": "ff938bc6-cc36-4fdf-8d1c-6fc8413326fb",
   "metadata": {},
   "source": [
    "> `index` + `index_endpoint`"
   ]
  },
  {
   "cell_type": "code",
   "execution_count": 15,
   "id": "17c9c13d-d780-468d-a24c-9a7507125d26",
   "metadata": {},
   "outputs": [],
   "source": [
    "# Matching Engine's VPC Network\n",
    "PROJECT_NUMBER = 934903580331\n",
    "VPC_NETWORK_NAME = 'ucaip-haystack-vpc-network'\n",
    "vpc_network_resource_uri = f'projects/{PROJECT_NUMBER}/global/networks/{VPC_NETWORK_NAME}'"
   ]
  },
  {
   "cell_type": "markdown",
   "id": "56c9e382-4004-4667-8c6d-7627246a2ec2",
   "metadata": {},
   "source": [
    "> Retrieve an existing index endpoint given a name or ID\n",
    "\n",
    "```\n",
    "my_index_endpoint = aiplatform.MatchingEngineIndexEndpoint(\n",
    "                index_endpoint_name='projects/123/locations/us-central1/indexEndpoints/my_index_endpoint_id'\n",
    ")\n",
    "```"
   ]
  },
  {
   "cell_type": "code",
   "execution_count": 89,
   "id": "882000b4-2ccc-4a55-aefe-5cfb76f6fe10",
   "metadata": {},
   "outputs": [
    {
     "name": "stdout",
     "output_type": "stream",
     "text": [
      "my_ann_IndexEndpoint: <google.cloud.aiplatform.matching_engine.matching_engine_index_endpoint.MatchingEngineIndexEndpoint object at 0x7f7888094a90> \n",
      "resource name: projects/934903580331/locations/us-central1/indexEndpoints/8693644926778343424\n",
      "\n",
      "my_bf_IndexEndpoint: <google.cloud.aiplatform.matching_engine.matching_engine_index_endpoint.MatchingEngineIndexEndpoint object at 0x7f78880ffe50> \n",
      "resource name: projects/934903580331/locations/us-central1/indexEndpoints/4594243365964349440\n"
     ]
    }
   ],
   "source": [
    "# tree-ah index -> ann_1280_deployed_index_v5 \n",
    "ann_IndexEndpoint_ResourceName = \"projects/934903580331/locations/us-central1/indexEndpoints/8693644926778343424\"\n",
    "my_ann_IndexEndpoint = vertex_ai.MatchingEngineIndexEndpoint(index_endpoint_name=ann_IndexEndpoint_ResourceName)\n",
    "\n",
    "# brute force index -> brute_force_1280_deployed_index_v5\n",
    "bf_IndexEndpoint_ResourceName = \"projects/934903580331/locations/us-central1/indexEndpoints/4594243365964349440\"\n",
    "my_bf_IndexEndpoint = vertex_ai.MatchingEngineIndexEndpoint(index_endpoint_name=bf_IndexEndpoint_ResourceName)\n",
    "\n",
    "print(f\"my_ann_IndexEndpoint: {my_ann_IndexEndpoint}\\n\")\n",
    "print(f\"my_bf_IndexEndpoint: {my_bf_IndexEndpoint}\")"
   ]
  },
  {
   "cell_type": "markdown",
   "id": "d34926e8-4569-42fb-a068-7058f3640ac7",
   "metadata": {},
   "source": [
    "## Query indexes"
   ]
  },
  {
   "cell_type": "markdown",
   "id": "acdc1331-81c7-426f-8df0-655f812679ff",
   "metadata": {},
   "source": [
    "**Query deployed indexes**\n",
    "> * `Match` vs `BatchMatch` ? \n",
    "> * single vs ~many query items ?\n",
    "\n",
    "**queries**\n",
    "\n",
    "* Queries express an `AND` logical operator *across* namespaces\n",
    "* Queries express an `OR` logical operator *within* namespaces\n",
    "* A query that specifies `{color: red, blue}, {shape: square, circle}`, matches all database points that satisfy `(red || blue) && (square || circle)`\n",
    "* A query that specifies `{color: red}`, matches all `red` objects of any kind, with no restriction on `shape`"
   ]
  },
  {
   "cell_type": "markdown",
   "id": "af9cd442-616d-4927-bfca-67a774fba523",
   "metadata": {},
   "source": [
    "**create class for** `namespace`\n",
    "* specifies the rules for determining the datapoints that are eligible for each matching query,\n",
    "* overall query is an AND across `namespaces`"
   ]
  },
  {
   "cell_type": "code",
   "execution_count": 90,
   "id": "3074ec34-e5d2-4e59-810e-7fc66b711d57",
   "metadata": {},
   "outputs": [],
   "source": [
    "from dataclasses import dataclass, field\n",
    "\n",
    "@dataclass\n",
    "class Namespace:\n",
    "    name: str\n",
    "    allow_tokens: list = field(default_factory=list)\n",
    "    deny_tokens: list = field(default_factory=list)"
   ]
  },
  {
   "cell_type": "markdown",
   "id": "0b34bb82-6335-4c42-83e3-946d3bdb3fa7",
   "metadata": {},
   "source": [
    "### helper function"
   ]
  },
  {
   "cell_type": "code",
   "execution_count": 187,
   "id": "95daae29-b362-41c9-909b-56e9d0e2d750",
   "metadata": {},
   "outputs": [],
   "source": [
    "import time \n",
    "\n",
    "def single_query_retrieval( \n",
    "    index_endpoint_resource, \n",
    "    deployed_index_id, \n",
    "    num_neighbs, \n",
    "    test_query,\n",
    "    query_id,\n",
    "    cat_allows, \n",
    "    cat_denies, \n",
    "    tag_1_allows,\n",
    "    tag_1_denies,\n",
    "):\n",
    "    '''\n",
    "    index_endpoint_resource (MatchingEngineIndexEndpoint): \n",
    "        Matching Engine index endpoint resource for Vertex AI\n",
    "    \n",
    "    deployed_index_id (str): \n",
    "        The ID of the DeployedIndex to match the queries against\n",
    "    \n",
    "    num_neighbs (int):\n",
    "        number of nearest neighbors to retrieve with each query\n",
    "    \n",
    "    test_query List[List[float]]): \n",
    "        A list of queries. Each query a list of floats, \n",
    "        representing a single embedding\n",
    "        e.g., `array([0.2, ..., 0.4], dtype=float32)`\n",
    "        \n",
    "    query_id (str):\n",
    "        id of query product\n",
    "    \n",
    "    cat_allows List[str]):\n",
    "        allow tokens for the \"category\" namespace\n",
    "    \n",
    "    cat_denies List[str]):\n",
    "        deny tokens for the \"category\" namespace\n",
    "    \n",
    "    tag_1_allows List[str]):\n",
    "        allow tokens for the \"tag_1\" namespace\n",
    "    \n",
    "    tag_1_denies List[str]):\n",
    "        deny tokens for the \"tag_1\" namespace\n",
    "    \n",
    "    '''\n",
    "    print(f'Restricts...\\n cat_allows: {cat_allows}, cat_denies: {cat_denies},\\ntag_1_allows: {tag_1_allows}, tag_1_denies: {tag_1_denies}\\n')\n",
    "    bucket = storage_client.get_bucket(BUCKET)\n",
    "    \n",
    "    # call match on tree-ah index endpoint\n",
    "    start = time.time()\n",
    "    \n",
    "    response = my_ann_IndexEndpoint.match(\n",
    "        deployed_index_id=deployed_index_id, \n",
    "        queries=test_query, \n",
    "        num_neighbors=num_neighbs,\n",
    "        filter=[         \n",
    "            Namespace(name=\"category\", allow_tokens=cat_allows, deny_tokens=cat_denies), \n",
    "            Namespace(name=\"tag_1\", allow_tokens=tag_1_allows, deny_tokens=tag_1_denies)\n",
    "        ]\n",
    "    )\n",
    "    \n",
    "    end = time.time()\n",
    "    elapsed_time = round((end - start), 2)\n",
    "    print(f'Elapsed time querying index-endpoint: {elapsed_time} seconds\\n')\n",
    "    \n",
    "    # ===============================================================\n",
    "    # gather metadata for query item...\n",
    "    # ===============================================================\n",
    "    \n",
    "    print(\"--> query item...\\n\")\n",
    "    q_title = test_csv.loc[test_csv['ImgId'] == query_id, 'title'].item()\n",
    "    q_desc = test_csv.loc[test_csv['ImgId'] == query_id, 'description'].item()\n",
    "    print(f\"id: {query_id} | title: {q_title} | description:\\n{q_desc}\\n\")\n",
    "    \n",
    "    query_id_filename = f'data-full/test/test/{query_id}.jpg'\n",
    "    blob = bucket.blob(query_id_filename)\n",
    "    z = Image(blob.download_as_bytes(), width=200, height=200)\n",
    "    display(z)\n",
    "    \n",
    "    # ===============================================================\n",
    "    # gather metadata for NNs...\n",
    "    # ===============================================================\n",
    "    \n",
    "    print(f\"\\n--> {num_neighbs} nearest neighbors...\\n\")\n",
    "    nn_ids_list = []\n",
    "    nn_distance_list = []\n",
    "    # NN ids n distances\n",
    "    for neighbor in response[0]:\n",
    "        nn_ids_list.append(neighbor.id)\n",
    "        nn_distance_list.append(round(neighbor.distance,2))\n",
    "\n",
    "    # for img_id in nn_ids_list:\n",
    "    for img_id, nn_dist in zip(nn_ids_list, nn_distance_list):\n",
    "        nn_cat = train_csv.loc[train_csv['ImgId'] == img_id, 'categories'].item()\n",
    "        nn_title = train_csv.loc[train_csv['ImgId'] == img_id, 'title'].item()\n",
    "        nn_desc = train_csv.loc[train_csv['ImgId'] == img_id, 'description'].item()\n",
    "        \n",
    "        print(f\"title: '{nn_title}'\\nid: {img_id} | dist: {nn_dist} | category: '{nn_cat}' | description:\\n'{nn_desc}'\")\n",
    "        # print(f\"id: {img_id} | title: '{nn_title}' | dist: {nn_dist} | category: '{nn_cat}' | description:\\n'{nn_desc}'\")\n",
    "        \n",
    "        filename = f'data-full/train/train/{img_id}.jpg'\n",
    "        blob = bucket.blob(filename)\n",
    "        y = Image(blob.download_as_bytes(), width=200, height=200)\n",
    "        display(y)\n",
    "        print('\\n')\n",
    "        \n",
    "        \n",
    "    return response"
   ]
  },
  {
   "cell_type": "markdown",
   "id": "04518bed-84f2-47e9-b267-6d22ac27bc9b",
   "metadata": {},
   "source": [
    "### no restricts specified"
   ]
  },
  {
   "cell_type": "code",
   "execution_count": 188,
   "id": "b0707ba7-64a8-4b9a-ad91-ee6501684f93",
   "metadata": {},
   "outputs": [
    {
     "name": "stdout",
     "output_type": "stream",
     "text": [
      "Restricts...\n",
      " cat_allows: [], cat_denies: [],\n",
      "tag_1_allows: [], tag_1_denies: []\n",
      "\n",
      "Elapsed time querying index-endpoint: 0.03 seconds\n",
      "\n",
      "--> query item...\n",
      "\n",
      "id: 098415096X | title: Malifaux: 2nd Edition Rulebook | description:\n",
      "The next level of hurt is here. They've bringing back Malifaux with bigger guns, sharper teeth, and more chest-pounding action than you can believe. They've added new characters to the game and a new way to build each character using their brand new upgrade system. It doesn't stop there, new stories will keep you on your toes, while reliving past events from your favorite characters!\n",
      "\n"
     ]
    },
    {
     "data": {
      "image/jpeg": "[encoded data removed]",
      "text/plain": [
       "<IPython.core.display.Image object>"
      ]
     },
     "metadata": {
      "image/jpeg": {
       "height": 200,
       "width": 200
      }
     },
     "output_type": "display_data"
    },
    {
     "name": "stdout",
     "output_type": "stream",
     "text": [
      "\n",
      "--> 5 nearest neighbors...\n",
      "\n",
      "title: 'Warhammer Fantasy Roleplay: The Gathering Storm'\n",
      "id: 1589946987 | dist: 682.58 | category: 'Toys & Games' | description:\n",
      "'FFGWHF04 The Gathering Storm Warhammer Fantasy Roleplay Game by Fantasy Flight GamesDeath. Misery. Peril. Suffering. Disaster. And that is just the weather! The Gathering Storm is a complete campaign for Warhammer Fantasy Roleplay that centers around a series of bizarre events that bring the heroes face-to-face with dangerous enemies, moral dilemmas, and the raw fury of nature. In addition to introducing many sessions of exciting adventure, this campaign guide provides detailed information on the town of Stromdorf and a number of its odd citizens, as well as colorful maps that bring Stromdorf and the surrounding region to life.'\n"
     ]
    },
    {
     "data": {
      "image/jpeg": "[encoded data removed]",
      "text/plain": [
       "<IPython.core.display.Image object>"
      ]
     },
     "metadata": {
      "image/jpeg": {
       "height": 200,
       "width": 200
      }
     },
     "output_type": "display_data"
    },
    {
     "name": "stdout",
     "output_type": "stream",
     "text": [
      "\n",
      "\n",
      "title: 'Once Upon a Time: Dark Tales'\n",
      "id: 1589780604 | dist: 661.28 | category: 'Toys & Games' | description:\n",
      "'Explore the grim side of your stories with the addition of the Dark Tales expansion to your Once Upon a Time storytelling card game. The 56 cards included in the set are designed to be mixed in with the original Once Upon a Time game, to provide new story elements and endings. In these stories, trolls lurk under every footbridge, inconsolable wraiths search for their lost loves, fiends tempt the innocent, and evil stepmothers serve up children in tasty stews.Not every fairy tale has a happy ending...'\n"
     ]
    },
    {
     "data": {
      "image/jpeg": "[encoded data removed]",
      "text/plain": [
       "<IPython.core.display.Image object>"
      ]
     },
     "metadata": {
      "image/jpeg": {
       "height": 200,
       "width": 200
      }
     },
     "output_type": "display_data"
    },
    {
     "name": "stdout",
     "output_type": "stream",
     "text": [
      "\n",
      "\n",
      "title: 'A Woman's View... Through Child Eyes'\n",
      "id: B000CA2JQ6 | dist: 658.17 | category: 'Baby Products' | description:\n",
      "'JACKIE RICHARDSON has been involved in Canada s blues, jazz and theatre scenes for more than 35 years.  A Woman s View...  features her diverse talent-extraordinary vocal prowess singing jazz, blues and gospel, along with sensitive readings of poems by Colina Philips and Salome Bey.'\n"
     ]
    },
    {
     "data": {
      "image/jpeg": "[encoded data removed]",
      "text/plain": [
       "<IPython.core.display.Image object>"
      ]
     },
     "metadata": {
      "image/jpeg": {
       "height": 200,
       "width": 200
      }
     },
     "output_type": "display_data"
    },
    {
     "name": "stdout",
     "output_type": "stream",
     "text": [
      "\n",
      "\n",
      "title: 'Chipper Jones Atlanta Braves All-Star 12x18 Lithograph'\n",
      "id: B0000AX6EE | dist: 655.84 | category: 'Sports & Outdoors' | description:\n",
      "'Get the Big Picture! A great collector's item for MLB fans. Large 12 x 18 lithograph.'\n"
     ]
    },
    {
     "data": {
      "image/jpeg": "[encoded data removed]",
      "text/plain": [
       "<IPython.core.display.Image object>"
      ]
     },
     "metadata": {
      "image/jpeg": {
       "height": 200,
       "width": 200
      }
     },
     "output_type": "display_data"
    },
    {
     "name": "stdout",
     "output_type": "stream",
     "text": [
      "\n",
      "\n",
      "title: 'Baby Carrier - Black'\n",
      "id: B000813EQ8 | dist: 650.51 | category: 'Baby' | description:\n",
      "'Body Glove baby carrier is an innovative baby carrier made for water and land. The Body Glove baby carrier securely snuggles baby to your body safely during water play. The Body Glove baby carrier is made of neoprene which helps regulate baby's body temperature for comfort. The Body Glove baby carrier has Padded Shoulder Straps that provide comfort and quick release buckle for safety. This baby carrier can be used as a front carrier or side sling with choice of two positions: criss - cross strapping or around the neck. The Body Glove baby carrier has Adjustable leg straps for a better fit. Rolls up for quick and easy storage and travel.4 Months to 2 Years - up to 25 lbs.Features:Hands FreeWater FriendlyCan be used as a front carrier or side sling'\n"
     ]
    },
    {
     "data": {
      "image/jpeg": "[encoded data removed]",
      "text/plain": [
       "<IPython.core.display.Image object>"
      ]
     },
     "metadata": {
      "image/jpeg": {
       "height": 200,
       "width": 200
      }
     },
     "output_type": "display_data"
    },
    {
     "name": "stdout",
     "output_type": "stream",
     "text": [
      "\n",
      "\n"
     ]
    },
    {
     "data": {
      "text/plain": [
       "[[MatchNeighbor(id='1589946987', distance=682.5783081054688),\n",
       "  MatchNeighbor(id='1589780604', distance=661.2794189453125),\n",
       "  MatchNeighbor(id='B000CA2JQ6', distance=658.1710205078125),\n",
       "  MatchNeighbor(id='B0000AX6EE', distance=655.8359375),\n",
       "  MatchNeighbor(id='B000813EQ8', distance=650.5066528320312)]]"
      ]
     },
     "execution_count": 188,
     "metadata": {},
     "output_type": "execute_result"
    }
   ],
   "source": [
    "# not specifying allow/deny tokens\n",
    "CAT_ALLOWS = [] # ['Toys & Games']\n",
    "CAT_DENIES = [] # ['Arts, Crafts & Sewing']\n",
    "\n",
    "TAG_ALLOWS = [] # [\"even\",\"odd\"]\n",
    "TAG_DENIES = [] # [\"even\",\"odd\"]\n",
    "\n",
    "QUERY_IMG_ID = cleaned_test_ids[:1][0]\n",
    "QUERY_IMG_EMB = cleaned_test_embs[:1]\n",
    "\n",
    "\n",
    "response = single_query_retrieval(\n",
    "    index_endpoint_resource=my_ann_IndexEndpoint, \n",
    "    deployed_index_id='ann_1280_deployed_index_v5', \n",
    "    num_neighbs=5, \n",
    "    test_query=QUERY_IMG_EMB,\n",
    "    query_id=QUERY_IMG_ID,\n",
    "    cat_allows=CAT_ALLOWS, \n",
    "    cat_denies=CAT_DENIES, \n",
    "    tag_1_allows=TAG_ALLOWS,\n",
    "    tag_1_denies=TAG_DENIES,\n",
    ")\n",
    "\n",
    "response"
   ]
  },
  {
   "cell_type": "markdown",
   "id": "3d5f0d55-4db5-4ec9-ac77-9232dda2680c",
   "metadata": {},
   "source": [
    "### restrict a nearest neighbor's category"
   ]
  },
  {
   "cell_type": "code",
   "execution_count": 190,
   "id": "4e31e538-c2f4-4bc0-8f11-d12de04ca194",
   "metadata": {},
   "outputs": [
    {
     "name": "stdout",
     "output_type": "stream",
     "text": [
      "Restricts...\n",
      " cat_allows: [], cat_denies: ['Baby'],\n",
      "tag_1_allows: [], tag_1_denies: []\n",
      "\n",
      "Elapsed time querying index-endpoint: 0.04 seconds\n",
      "\n",
      "--> query item...\n",
      "\n",
      "id: 098415096X | title: Malifaux: 2nd Edition Rulebook | description:\n",
      "The next level of hurt is here. They've bringing back Malifaux with bigger guns, sharper teeth, and more chest-pounding action than you can believe. They've added new characters to the game and a new way to build each character using their brand new upgrade system. It doesn't stop there, new stories will keep you on your toes, while reliving past events from your favorite characters!\n",
      "\n"
     ]
    },
    {
     "data": {
      "image/jpeg": "[encoded data removed]",
      "text/plain": [
       "<IPython.core.display.Image object>"
      ]
     },
     "metadata": {
      "image/jpeg": {
       "height": 200,
       "width": 200
      }
     },
     "output_type": "display_data"
    },
    {
     "name": "stdout",
     "output_type": "stream",
     "text": [
      "\n",
      "--> 5 nearest neighbors...\n",
      "\n",
      "title: 'Warhammer Fantasy Roleplay: The Gathering Storm'\n",
      "id: 1589946987 | dist: 682.58 | category: 'Toys & Games' | description:\n",
      "'FFGWHF04 The Gathering Storm Warhammer Fantasy Roleplay Game by Fantasy Flight GamesDeath. Misery. Peril. Suffering. Disaster. And that is just the weather! The Gathering Storm is a complete campaign for Warhammer Fantasy Roleplay that centers around a series of bizarre events that bring the heroes face-to-face with dangerous enemies, moral dilemmas, and the raw fury of nature. In addition to introducing many sessions of exciting adventure, this campaign guide provides detailed information on the town of Stromdorf and a number of its odd citizens, as well as colorful maps that bring Stromdorf and the surrounding region to life.'\n"
     ]
    },
    {
     "data": {
      "image/jpeg": "[encoded data removed]",
      "text/plain": [
       "<IPython.core.display.Image object>"
      ]
     },
     "metadata": {
      "image/jpeg": {
       "height": 200,
       "width": 200
      }
     },
     "output_type": "display_data"
    },
    {
     "name": "stdout",
     "output_type": "stream",
     "text": [
      "\n",
      "\n",
      "title: 'Once Upon a Time: Dark Tales'\n",
      "id: 1589780604 | dist: 661.28 | category: 'Toys & Games' | description:\n",
      "'Explore the grim side of your stories with the addition of the Dark Tales expansion to your Once Upon a Time storytelling card game. The 56 cards included in the set are designed to be mixed in with the original Once Upon a Time game, to provide new story elements and endings. In these stories, trolls lurk under every footbridge, inconsolable wraiths search for their lost loves, fiends tempt the innocent, and evil stepmothers serve up children in tasty stews.Not every fairy tale has a happy ending...'\n"
     ]
    },
    {
     "data": {
      "image/jpeg": "[encoded data removed]",
      "text/plain": [
       "<IPython.core.display.Image object>"
      ]
     },
     "metadata": {
      "image/jpeg": {
       "height": 200,
       "width": 200
      }
     },
     "output_type": "display_data"
    },
    {
     "name": "stdout",
     "output_type": "stream",
     "text": [
      "\n",
      "\n",
      "title: 'A Woman's View... Through Child Eyes'\n",
      "id: B000CA2JQ6 | dist: 658.17 | category: 'Baby Products' | description:\n",
      "'JACKIE RICHARDSON has been involved in Canada s blues, jazz and theatre scenes for more than 35 years.  A Woman s View...  features her diverse talent-extraordinary vocal prowess singing jazz, blues and gospel, along with sensitive readings of poems by Colina Philips and Salome Bey.'\n"
     ]
    },
    {
     "data": {
      "image/jpeg": "[encoded data removed]",
      "text/plain": [
       "<IPython.core.display.Image object>"
      ]
     },
     "metadata": {
      "image/jpeg": {
       "height": 200,
       "width": 200
      }
     },
     "output_type": "display_data"
    },
    {
     "name": "stdout",
     "output_type": "stream",
     "text": [
      "\n",
      "\n",
      "title: 'Chipper Jones Atlanta Braves All-Star 12x18 Lithograph'\n",
      "id: B0000AX6EE | dist: 655.84 | category: 'Sports & Outdoors' | description:\n",
      "'Get the Big Picture! A great collector's item for MLB fans. Large 12 x 18 lithograph.'\n"
     ]
    },
    {
     "data": {
      "image/jpeg": "[encoded data removed]",
      "text/plain": [
       "<IPython.core.display.Image object>"
      ]
     },
     "metadata": {
      "image/jpeg": {
       "height": 200,
       "width": 200
      }
     },
     "output_type": "display_data"
    },
    {
     "name": "stdout",
     "output_type": "stream",
     "text": [
      "\n",
      "\n",
      "title: 'Living Stone'\n",
      "id: 1932697810 | dist: 640.95 | category: 'Toys & Games' | description:\n",
      "'Africa, 1855, The Scottish missionary, Dr. David Livingstone, has been researching African tribes and the flora and fauna of the area. As part of the Livingstone expedition, strategically set up tents in various regions, while collecting gemstones found along the Zambezi River bank. Gain the most victory points and the favor of Queen Victoria to win. 2 to 5 players. 35 minutes. In this game you follow in the footsteps of David Livingstone to the roaring Victoria Falls. On your way you may want to try your luck in the Diamond mining or you may prefer to seek a more calculable risk.'\n"
     ]
    },
    {
     "data": {
      "image/jpeg": "[encoded data removed]",
      "text/plain": [
       "<IPython.core.display.Image object>"
      ]
     },
     "metadata": {
      "image/jpeg": {
       "height": 200,
       "width": 200
      }
     },
     "output_type": "display_data"
    },
    {
     "name": "stdout",
     "output_type": "stream",
     "text": [
      "\n",
      "\n"
     ]
    },
    {
     "data": {
      "text/plain": [
       "[[MatchNeighbor(id='1589946987', distance=682.5783081054688),\n",
       "  MatchNeighbor(id='1589780604', distance=661.2794189453125),\n",
       "  MatchNeighbor(id='B000CA2JQ6', distance=658.1710205078125),\n",
       "  MatchNeighbor(id='B0000AX6EE', distance=655.8359375),\n",
       "  MatchNeighbor(id='1932697810', distance=640.9542236328125)]]"
      ]
     },
     "execution_count": 190,
     "metadata": {},
     "output_type": "execute_result"
    }
   ],
   "source": [
    "CAT_ALLOWS = [] # ['Toys & Games']\n",
    "CAT_DENIES = ['Baby'] # ['Arts, Crafts & Sewing']\n",
    "\n",
    "TAG_ALLOWS = [] # [\"even\",\"odd\"]\n",
    "TAG_DENIES = [] # [\"even\",\"odd\"]\n",
    "\n",
    "QUERY_IMG_ID = cleaned_test_ids[:1][0]\n",
    "QUERY_IMG_EMB = cleaned_test_embs[:1]\n",
    "\n",
    "\n",
    "response = single_query_retrieval(\n",
    "    index_endpoint_resource=my_ann_IndexEndpoint, \n",
    "    deployed_index_id='ann_1280_deployed_index_v5', \n",
    "    num_neighbs=5, \n",
    "    test_query=QUERY_IMG_EMB,\n",
    "    query_id=QUERY_IMG_ID,\n",
    "    cat_allows=CAT_ALLOWS, \n",
    "    cat_denies=CAT_DENIES, \n",
    "    tag_1_allows=TAG_ALLOWS,\n",
    "    tag_1_denies=TAG_DENIES,\n",
    ")\n",
    "\n",
    "response"
   ]
  },
  {
   "cell_type": "markdown",
   "id": "9c34a8d9-0915-48ba-ba1f-95a9bd1a04c8",
   "metadata": {},
   "source": [
    "### restrict tag_1 namespace tokens"
   ]
  },
  {
   "cell_type": "code",
   "execution_count": 191,
   "id": "f1164034-4a7d-49dc-a4f4-ce89548c4d29",
   "metadata": {},
   "outputs": [
    {
     "name": "stdout",
     "output_type": "stream",
     "text": [
      "Restricts...\n",
      " cat_allows: [], cat_denies: ['Baby'],\n",
      "tag_1_allows: ['even'], tag_1_denies: ['odd']\n",
      "\n",
      "Elapsed time querying index-endpoint: 0.02 seconds\n",
      "\n",
      "--> query item...\n",
      "\n",
      "id: 098415096X | title: Malifaux: 2nd Edition Rulebook | description:\n",
      "The next level of hurt is here. They've bringing back Malifaux with bigger guns, sharper teeth, and more chest-pounding action than you can believe. They've added new characters to the game and a new way to build each character using their brand new upgrade system. It doesn't stop there, new stories will keep you on your toes, while reliving past events from your favorite characters!\n",
      "\n"
     ]
    },
    {
     "data": {
      "image/jpeg": "[encoded data removed]",
      "text/plain": [
       "<IPython.core.display.Image object>"
      ]
     },
     "metadata": {
      "image/jpeg": {
       "height": 200,
       "width": 200
      }
     },
     "output_type": "display_data"
    },
    {
     "name": "stdout",
     "output_type": "stream",
     "text": [
      "\n",
      "--> 5 nearest neighbors...\n",
      "\n",
      "title: 'Warhammer Fantasy Roleplay: The Gathering Storm'\n",
      "id: 1589946987 | dist: 682.58 | category: 'Toys & Games' | description:\n",
      "'FFGWHF04 The Gathering Storm Warhammer Fantasy Roleplay Game by Fantasy Flight GamesDeath. Misery. Peril. Suffering. Disaster. And that is just the weather! The Gathering Storm is a complete campaign for Warhammer Fantasy Roleplay that centers around a series of bizarre events that bring the heroes face-to-face with dangerous enemies, moral dilemmas, and the raw fury of nature. In addition to introducing many sessions of exciting adventure, this campaign guide provides detailed information on the town of Stromdorf and a number of its odd citizens, as well as colorful maps that bring Stromdorf and the surrounding region to life.'\n"
     ]
    },
    {
     "data": {
      "image/jpeg": "[encoded data removed]",
      "text/plain": [
       "<IPython.core.display.Image object>"
      ]
     },
     "metadata": {
      "image/jpeg": {
       "height": 200,
       "width": 200
      }
     },
     "output_type": "display_data"
    },
    {
     "name": "stdout",
     "output_type": "stream",
     "text": [
      "\n",
      "\n",
      "title: 'Once Upon a Time: Dark Tales'\n",
      "id: 1589780604 | dist: 661.28 | category: 'Toys & Games' | description:\n",
      "'Explore the grim side of your stories with the addition of the Dark Tales expansion to your Once Upon a Time storytelling card game. The 56 cards included in the set are designed to be mixed in with the original Once Upon a Time game, to provide new story elements and endings. In these stories, trolls lurk under every footbridge, inconsolable wraiths search for their lost loves, fiends tempt the innocent, and evil stepmothers serve up children in tasty stews.Not every fairy tale has a happy ending...'\n"
     ]
    },
    {
     "data": {
      "image/jpeg": "[encoded data removed]",
      "text/plain": [
       "<IPython.core.display.Image object>"
      ]
     },
     "metadata": {
      "image/jpeg": {
       "height": 200,
       "width": 200
      }
     },
     "output_type": "display_data"
    },
    {
     "name": "stdout",
     "output_type": "stream",
     "text": [
      "\n",
      "\n",
      "title: 'A Woman's View... Through Child Eyes'\n",
      "id: B000CA2JQ6 | dist: 658.17 | category: 'Baby Products' | description:\n",
      "'JACKIE RICHARDSON has been involved in Canada s blues, jazz and theatre scenes for more than 35 years.  A Woman s View...  features her diverse talent-extraordinary vocal prowess singing jazz, blues and gospel, along with sensitive readings of poems by Colina Philips and Salome Bey.'\n"
     ]
    },
    {
     "data": {
      "image/jpeg": "[encoded data removed]",
      "text/plain": [
       "<IPython.core.display.Image object>"
      ]
     },
     "metadata": {
      "image/jpeg": {
       "height": 200,
       "width": 200
      }
     },
     "output_type": "display_data"
    },
    {
     "name": "stdout",
     "output_type": "stream",
     "text": [
      "\n",
      "\n",
      "title: 'Lunch Money'\n",
      "id: 1887801472 | dist: 631.37 | category: 'Toys & Games' | description:\n",
      "'Lunch Money is an exciting, fast-paced, multi-player card game that combines dark, psychological images with the raw dynamics of a merciless street fight. This set is a complete game for two or more people. The two decks that come in the box are sufficient for at least four people. If you have more players, you may want to combine another set of cards, or simply be willing to reshuffle the discard pile when the draw pile runs out.'\n"
     ]
    },
    {
     "data": {
      "image/jpeg": "[encoded data removed]",
      "text/plain": [
       "<IPython.core.display.Image object>"
      ]
     },
     "metadata": {
      "image/jpeg": {
       "height": 200,
       "width": 200
      }
     },
     "output_type": "display_data"
    },
    {
     "name": "stdout",
     "output_type": "stream",
     "text": [
      "\n",
      "\n",
      "title: 'Huggies Overnites Diapers, Size 4, 31-Count (Pack of 2)'\n",
      "id: B000FKETWU | dist: 628.51 | category: 'Baby Products' | description:\n",
      "'A good nights rest starts with Huggies Overnites diapers. Sweet dreams for a baby who wakes up happy and dry.'\n"
     ]
    },
    {
     "data": {
      "image/jpeg": "[encoded data removed]",
      "text/plain": [
       "<IPython.core.display.Image object>"
      ]
     },
     "metadata": {
      "image/jpeg": {
       "height": 200,
       "width": 200
      }
     },
     "output_type": "display_data"
    },
    {
     "name": "stdout",
     "output_type": "stream",
     "text": [
      "\n",
      "\n"
     ]
    },
    {
     "data": {
      "text/plain": [
       "[[MatchNeighbor(id='1589946987', distance=682.5783081054688),\n",
       "  MatchNeighbor(id='1589780604', distance=661.2794189453125),\n",
       "  MatchNeighbor(id='B000CA2JQ6', distance=658.1710205078125),\n",
       "  MatchNeighbor(id='1887801472', distance=631.3718872070312),\n",
       "  MatchNeighbor(id='B000FKETWU', distance=628.5054931640625)]]"
      ]
     },
     "execution_count": 191,
     "metadata": {},
     "output_type": "execute_result"
    }
   ],
   "source": [
    "CAT_ALLOWS = [] # ['Toys & Games']\n",
    "CAT_DENIES = ['Baby'] # ['Arts, Crafts & Sewing']\n",
    "\n",
    "TAG_ALLOWS = [\"even\"] # [\"even\",\"odd\"]\n",
    "TAG_DENIES = [\"odd\"] # [\"even\",\"odd\"]\n",
    "\n",
    "QUERY_IMG_ID = cleaned_test_ids[:1][0]\n",
    "QUERY_IMG_EMB = cleaned_test_embs[:1]\n",
    "\n",
    "\n",
    "response = single_query_retrieval(\n",
    "    index_endpoint_resource=my_ann_IndexEndpoint, \n",
    "    deployed_index_id='ann_1280_deployed_index_v5', \n",
    "    num_neighbs=5, \n",
    "    test_query=QUERY_IMG_EMB,\n",
    "    query_id=QUERY_IMG_ID,\n",
    "    cat_allows=CAT_ALLOWS, \n",
    "    cat_denies=CAT_DENIES, \n",
    "    tag_1_allows=TAG_ALLOWS,\n",
    "    tag_1_denies=TAG_DENIES,\n",
    ")\n",
    "\n",
    "response"
   ]
  },
  {
   "cell_type": "code",
   "execution_count": 195,
   "id": "e204e5d3-0545-4977-8afd-6dfef9009da3",
   "metadata": {},
   "outputs": [
    {
     "name": "stdout",
     "output_type": "stream",
     "text": [
      "Restricts...\n",
      " cat_allows: [], cat_denies: ['Baby'],\n",
      "tag_1_allows: ['odd'], tag_1_denies: ['even']\n",
      "\n",
      "Elapsed time querying index-endpoint: 0.02 seconds\n",
      "\n",
      "--> query item...\n",
      "\n",
      "id: 098415096X | title: Malifaux: 2nd Edition Rulebook | description:\n",
      "The next level of hurt is here. They've bringing back Malifaux with bigger guns, sharper teeth, and more chest-pounding action than you can believe. They've added new characters to the game and a new way to build each character using their brand new upgrade system. It doesn't stop there, new stories will keep you on your toes, while reliving past events from your favorite characters!\n",
      "\n"
     ]
    },
    {
     "data": {
      "image/jpeg": "[encoded data removed]",
      "text/plain": [
       "<IPython.core.display.Image object>"
      ]
     },
     "metadata": {
      "image/jpeg": {
       "height": 200,
       "width": 200
      }
     },
     "output_type": "display_data"
    },
    {
     "name": "stdout",
     "output_type": "stream",
     "text": [
      "\n",
      "--> 5 nearest neighbors...\n",
      "\n",
      "title: 'Chipper Jones Atlanta Braves All-Star 12x18 Lithograph'\n",
      "id: B0000AX6EE | dist: 655.84 | category: 'Sports & Outdoors' | description:\n",
      "'Get the Big Picture! A great collector's item for MLB fans. Large 12 x 18 lithograph.'\n"
     ]
    },
    {
     "data": {
      "image/jpeg": "[encoded data removed]",
      "text/plain": [
       "<IPython.core.display.Image object>"
      ]
     },
     "metadata": {
      "image/jpeg": {
       "height": 200,
       "width": 200
      }
     },
     "output_type": "display_data"
    },
    {
     "name": "stdout",
     "output_type": "stream",
     "text": [
      "\n",
      "\n",
      "title: 'Living Stone'\n",
      "id: 1932697810 | dist: 640.95 | category: 'Toys & Games' | description:\n",
      "'Africa, 1855, The Scottish missionary, Dr. David Livingstone, has been researching African tribes and the flora and fauna of the area. As part of the Livingstone expedition, strategically set up tents in various regions, while collecting gemstones found along the Zambezi River bank. Gain the most victory points and the favor of Queen Victoria to win. 2 to 5 players. 35 minutes. In this game you follow in the footsteps of David Livingstone to the roaring Victoria Falls. On your way you may want to try your luck in the Diamond mining or you may prefer to seek a more calculable risk.'\n"
     ]
    },
    {
     "data": {
      "image/jpeg": "[encoded data removed]",
      "text/plain": [
       "<IPython.core.display.Image object>"
      ]
     },
     "metadata": {
      "image/jpeg": {
       "height": 200,
       "width": 200
      }
     },
     "output_type": "display_data"
    },
    {
     "name": "stdout",
     "output_type": "stream",
     "text": [
      "\n",
      "\n",
      "title: 'Minigame Library'\n",
      "id: 1936920107 | dist: 635.12 | category: 'Toys & Games' | description:\n",
      "'Why does a good game have to fill a gigantic box and weigh 10 pounds? The Level 99 Games Minigame Library is a collection of games small enough to fit in your pocket, but big enough to enjoy over and over again with friends and family. Each game fills a different niche, and each provides a different play experience. This means that no matter what group you're together with or what genre or style of game you're looking for, you'll be able to find pull out a game that provides 15-45 minutes of fun for a party of any size.Minigames are easy enough to teach in 5-10 minutes, but provide hours of repeated play and excitement. In a minigame, we look for a product that is simple to learn, deep to master, and extensively replayable and enjoyable. We guarantee that your fellow gamers will be requesting to play these games over and over again.Games include:\n",
      "\n",
      "    NOIR - A deductive mystery thriller for 2-4 players.Grimoire Shuffle - A team-based puzzle relay race for 4 or 6 players.Pixel Tactics - A game of tactical combat for 2 players.Infinity Dungeon - Delve through a trap-filled dungeon in this absurd storytelling game. For 4-8 players.Infinity Dungeon 2 - Additional rooms and characters for use with Infinity Dungeon.Blades of Legend - An epic secret roles game with variable powers. For 6-11 players.Master Plan - A gameshow for supervillains that plays on a real-space tabletop. For 3-6 players.'\n"
     ]
    },
    {
     "data": {
      "image/jpeg": "[encoded data removed]",
      "text/plain": [
       "<IPython.core.display.Image object>"
      ]
     },
     "metadata": {
      "image/jpeg": {
       "height": 200,
       "width": 200
      }
     },
     "output_type": "display_data"
    },
    {
     "name": "stdout",
     "output_type": "stream",
     "text": [
      "\n",
      "\n",
      "title: 'L'Oreal Paris Superior Preference Hair Color, 6A Light Ash Brown'\n",
      "id: B00006JN4I | dist: 628.03 | category: 'Beauty' | description:\n",
      "'Ultra Long-Lasting Coloring System. 20% More Fade-Resistant Color. Superior Fade-Resistant Colorant: 20% More color gel with Patented Fade-Resistant Colorants deeply replenishes every strand with rich, long-lasting color that shines. Brilliantly balanced shades stay true to the tone week after week - won't fade-out, turn dull or brassy. Patented Fade-Resistant Colorants for true color. Color-Saving Conditioning Creme: Care Supreme super-rich conditioning is more advanced than ever with a Color-Saving Complex. Enriched with Anti-Oxidant Vitamin E and UV Filters to help color defy fade-out and dry-out. Now, your color braves the elements - water, sun, wind. Hair stays silky and resilient. Up to 6 luxurious treatments to help keep first-day color vibrancy. Vitamin E and UV filters. Up to 6 weekly color-saving treatments. Luxurious Color Experience: All you need for superior coloring - Superior Colorist Gloves, simple instructions, rich color gel technology for no-mess application and a luxurious scent. Preference Color Matching System: More than 50% Gray - Your results will be slightly lighter-looking than the haircolor results shown on box; Red Hair - Your color results will be light brown with soft red tones. Ultra Long-Lasting Coloring System Includes: No-Mess Fade-Resistant Color Gel; Color Optimizing Creme in Applicator; Care Supreme Multi-Dose Conditioner with Vitamin E and UV Filters; Superior Colorist Gloves; Instruction Insert.'\n"
     ]
    },
    {
     "data": {
      "image/jpeg": "[encoded data removed]",
      "text/plain": [
       "<IPython.core.display.Image object>"
      ]
     },
     "metadata": {
      "image/jpeg": {
       "height": 200,
       "width": 200
      }
     },
     "output_type": "display_data"
    },
    {
     "name": "stdout",
     "output_type": "stream",
     "text": [
      "\n",
      "\n",
      "title: 'Cover Your Gray Lipstick For The Hair - Dark Brown'\n",
      "id: B0000XMQSQ | dist: 622.17 | category: 'Beauty' | description:\n",
      "'DKNY GOLDEN DELICIOUS by Donna Karan for WOMEN EAU DE PARFUM SPRAY 1.7 OZ (UNBOXED) Launched by the design house of Donna Karan in 2011, DKNY GOLDEN DELICIOUS by Donna Karan possesses a blend of juicy fruits with its fresh opening notes of apple and lily of the valley. It is recommended for casual wear.'\n"
     ]
    },
    {
     "data": {
      "image/jpeg": "[encoded data removed]",
      "text/plain": [
       "<IPython.core.display.Image object>"
      ]
     },
     "metadata": {
      "image/jpeg": {
       "height": 200,
       "width": 200
      }
     },
     "output_type": "display_data"
    },
    {
     "name": "stdout",
     "output_type": "stream",
     "text": [
      "\n",
      "\n"
     ]
    },
    {
     "data": {
      "text/plain": [
       "[[MatchNeighbor(id='B0000AX6EE', distance=655.8359375),\n",
       "  MatchNeighbor(id='1932697810', distance=640.9542236328125),\n",
       "  MatchNeighbor(id='1936920107', distance=635.1223754882812),\n",
       "  MatchNeighbor(id='B00006JN4I', distance=628.032958984375),\n",
       "  MatchNeighbor(id='B0000XMQSQ', distance=622.167724609375)]]"
      ]
     },
     "execution_count": 195,
     "metadata": {},
     "output_type": "execute_result"
    }
   ],
   "source": [
    "CAT_ALLOWS = [] # ['Toys & Games']\n",
    "CAT_DENIES = ['Baby'] # ['Arts, Crafts & Sewing']\n",
    "\n",
    "TAG_ALLOWS = [\"odd\"] # [\"even\",\"odd\"]\n",
    "TAG_DENIES = [\"even\"] # [\"even\",\"odd\"]\n",
    "\n",
    "QUERY_IMG_ID = cleaned_test_ids[:1][0]\n",
    "QUERY_IMG_EMB = cleaned_test_embs[:1]\n",
    "\n",
    "\n",
    "response = single_query_retrieval(\n",
    "    index_endpoint_resource=my_ann_IndexEndpoint, \n",
    "    deployed_index_id='ann_1280_deployed_index_v5', \n",
    "    num_neighbs=5, \n",
    "    test_query=QUERY_IMG_EMB,\n",
    "    query_id=QUERY_IMG_ID,\n",
    "    cat_allows=CAT_ALLOWS, \n",
    "    cat_denies=CAT_DENIES, \n",
    "    tag_1_allows=TAG_ALLOWS,\n",
    "    tag_1_denies=TAG_DENIES,\n",
    ")\n",
    "\n",
    "response"
   ]
  },
  {
   "cell_type": "markdown",
   "id": "d6d11975-b528-4ccc-96b8-dbb7ecc9b4fb",
   "metadata": {},
   "source": [
    "# Compute Recall"
   ]
  },
  {
   "cell_type": "markdown",
   "id": "ed25d883-368b-436b-b63f-a8c0eddf0772",
   "metadata": {},
   "source": [
    "make the identical request to both indexes..."
   ]
  },
  {
   "cell_type": "code",
   "execution_count": 207,
   "id": "3976e732-a5ee-4499-b30c-fb03177842c9",
   "metadata": {},
   "outputs": [],
   "source": [
    "NUM_NEIGHBOURS=10\n",
    "\n",
    "# ANN INDEX ENDPOINT\n",
    "ann_matches = my_ann_IndexEndpoint.match(\n",
    "    deployed_index_id='ann_1280_deployed_index_v5',\n",
    "    queries=cleaned_test_embs, # [:1],\n",
    "    num_neighbors=NUM_NEIGHBOURS,\n",
    ")\n",
    "\n",
    "# BRUTE FORCE INDEX ENDPOINT\n",
    "exact_matches = my_bf_IndexEndpoint.match(\n",
    "    deployed_index_id='brute_force_1280_deployed_index_v5',\n",
    "    queries=cleaned_test_embs, # [:1],\n",
    "    num_neighbors=NUM_NEIGHBOURS,\n",
    ")"
   ]
  },
  {
   "cell_type": "markdown",
   "id": "2cc8be30-dad1-49ba-95a7-fbd62cf34832",
   "metadata": {},
   "source": [
    "Calculate recall by determining how many neighbors were correctly retrieved as compared to the brute-force index"
   ]
  },
  {
   "cell_type": "code",
   "execution_count": 208,
   "id": "0a09d277-033d-424a-beed-03b42546c948",
   "metadata": {},
   "outputs": [
    {
     "name": "stdout",
     "output_type": "stream",
     "text": [
      "Recall: 1.0\n"
     ]
    }
   ],
   "source": [
    "correct_neighbors = 0\n",
    "\n",
    "for tree_ah_neighbors, brute_force_neighbors in zip(ann_matches, exact_matches):\n",
    "    tree_ah_neighbor_ids = [neighbor.id for neighbor in tree_ah_neighbors]\n",
    "    brute_force_neighbor_ids = [neighbor.id for neighbor in brute_force_neighbors]\n",
    "\n",
    "    correct_neighbors += len(\n",
    "        set(tree_ah_neighbor_ids).intersection(brute_force_neighbor_ids)\n",
    "    )\n",
    "\n",
    "recall = correct_neighbors / (len(cleaned_test_ids) * NUM_NEIGHBOURS)\n",
    "\n",
    "print(\"Recall: {}\".format(recall))"
   ]
  },
  {
   "cell_type": "code",
   "execution_count": 211,
   "id": "41decb18-ddb9-4d67-98b7-a5912f397885",
   "metadata": {},
   "outputs": [
    {
     "name": "stdout",
     "output_type": "stream",
     "text": [
      "'Length of ann_matches: 10'\n",
      "'Length of exact_matches: 10'\n",
      "'correct_neighbors: 100'\n"
     ]
    }
   ],
   "source": [
    "# pprint(ann_matches)\n",
    "# pprint(exact_matches)\n",
    "\n",
    "pprint(f\"Length of ann_matches: {len(ann_matches)}\")\n",
    "pprint(f\"Length of exact_matches: {len(exact_matches)}\")\n",
    "\n",
    "pprint(f\"correct_neighbors: {correct_neighbors}\")"
   ]
  },
  {
   "cell_type": "code",
   "execution_count": 210,
   "id": "274ed2d7-7723-43ef-8d08-7f2d8d0b3335",
   "metadata": {},
   "outputs": [
    {
     "data": {
      "text/plain": [
       "100"
      ]
     },
     "execution_count": 210,
     "metadata": {},
     "output_type": "execute_result"
    }
   ],
   "source": [
    "correct_neighbors"
   ]
  }
 ],
 "metadata": {
  "environment": {
   "kernel": "python3",
   "name": "tf2-gpu.2-8.m95",
   "type": "gcloud",
   "uri": "gcr.io/deeplearning-platform-release/tf2-gpu.2-8:m95"
  },
  "kernelspec": {
   "display_name": "Python 3",
   "language": "python",
   "name": "python3"
  },
  "language_info": {
   "codemirror_mode": {
    "name": "ipython",
    "version": 3
   },
   "file_extension": ".py",
   "mimetype": "text/x-python",
   "name": "python",
   "nbconvert_exporter": "python",
   "pygments_lexer": "ipython3",
   "version": "3.7.12"
  }
 },
 "nbformat": 4,
 "nbformat_minor": 5
}
